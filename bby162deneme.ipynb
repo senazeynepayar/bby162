{
  "nbformat": 4,
  "nbformat_minor": 0,
  "metadata": {
    "colab": {
      "name": "bby162deneme.ipynb",
      "provenance": [],
      "authorship_tag": "ABX9TyOv7r4ANIHi9cz8AHr5fAOX",
      "include_colab_link": true
    },
    "kernelspec": {
      "name": "python3",
      "display_name": "Python 3"
    }
  },
  "cells": [
    {
      "cell_type": "markdown",
      "metadata": {
        "id": "view-in-github",
        "colab_type": "text"
      },
      "source": [
        "<a href=\"https://colab.research.google.com/github/senazeynepayar/bby162/blob/master/bby162deneme.ipynb\" target=\"_parent\"><img src=\"https://colab.research.google.com/assets/colab-badge.svg\" alt=\"Open In Colab\"/></a>"
      ]
    },
    {
      "cell_type": "code",
      "metadata": {
        "id": "v_ooj6zGc4hE",
        "colab_type": "code",
        "outputId": "c5da4450-838a-442a-ca1d-a11a3420e15e",
        "colab": {
          "base_uri": "https://localhost:8080/",
          "height": 68
        }
      },
      "source": [
        "ÜrünAdi= \"kalem\"\n",
        "Urunfiyati = 5\n",
        "KaçTane= 8\n",
        "Bütçe= 10\n",
        "Ödeme = Urunfiyati * KaçTane\n",
        "print(Ödeme)\n",
        "print( \"Bütçeniz: \"+ str(Bütçe))\n",
        "print(\"Almak istediğiniz ürünün adı\", ÜrünAdi, \"fiyatı\", Urunfiyati, \"ve bütçeniz\", Bütçe)\n",
        "print()\n"
      ],
      "execution_count": 0,
      "outputs": [
        {
          "output_type": "stream",
          "text": [
            "40\n",
            "Bütçeniz: 10\n",
            "Almak istediğiniz ürünün adı kalem fiyatı 5 ve bütçeniz 10\n"
          ],
          "name": "stdout"
        }
      ]
    },
    {
      "cell_type": "markdown",
      "metadata": {
        "id": "3HQlrMOar8f4",
        "colab_type": "text"
      },
      "source": [
        "UrunAdi = Elma\n",
        "FİYAT\n",
        "TANE\n",
        "TOPLAM ÖDEME\n",
        "BÜTÇE\n",
        "EĞER ÖDEME UYGUN SATIN AL EĞER YÜKSEKSE FALSE"
      ]
    },
    {
      "cell_type": "markdown",
      "metadata": {
        "id": "D-xbvDgrdXVD",
        "colab_type": "text"
      },
      "source": [
        "Bu bir denemedir."
      ]
    },
    {
      "cell_type": "code",
      "metadata": {
        "id": "Uxx_o8A9ddxa",
        "colab_type": "code",
        "colab": {}
      },
      "source": [
        ""
      ],
      "execution_count": 0,
      "outputs": []
    }
  ]
}