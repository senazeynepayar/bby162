{
  "nbformat": 4,
  "nbformat_minor": 0,
  "metadata": {
    "colab": {
      "name": "Copy of Untitled0.ipynb",
      "provenance": [],
      "authorship_tag": "ABX9TyM9f/fEJ9LpeCplQpQb7rKF",
      "include_colab_link": true
    },
    "kernelspec": {
      "name": "python3",
      "display_name": "Python 3"
    }
  },
  "cells": [
    {
      "cell_type": "markdown",
      "metadata": {
        "id": "view-in-github",
        "colab_type": "text"
      },
      "source": [
        "<a href=\"https://colab.research.google.com/github/senazeynepayar/bby162/blob/master/true%20or%20false.ipynb\" target=\"_parent\"><img src=\"https://colab.research.google.com/assets/colab-badge.svg\" alt=\"Open In Colab\"/></a>"
      ]
    },
    {
      "cell_type": "code",
      "metadata": {
        "id": "-ARvOgJ9eLr2",
        "colab_type": "code",
        "outputId": "974e6831-a627-4c1b-90ee-9125a104c864",
        "colab": {
          "base_uri": "https://localhost:8080/",
          "height": 84
        }
      },
      "source": [
        "UrunAdi= \"Defter\"\n",
        "Urunfiyati = 85\n",
        "Adet= 1\n",
        "Butce= 170\n",
        "Odeme = Urunfiyati * Adet\n",
        "print(\"Odemeniz:\" +str(Odeme))\n",
        "print( \"Bütçeniz: \"+ str(Butce))\n",
        "print(\"Almak istediğiniz ürünün adı:\", UrunAdi, \"fiyatı:\", Urunfiyati, \"ve bütçeniz:\", Butce)\n",
        "Sonuc= Odeme < Butce\n",
        "print(\"Almak istediğiniz ürünü alabilme durumunuz:\" + str(Sonuc))\n"
      ],
      "execution_count": 0,
      "outputs": [
        {
          "output_type": "stream",
          "text": [
            "Odemeniz:85\n",
            "Bütçeniz: 170\n",
            "Almak istediğiniz ürünün adı: Defter fiyatı: 85 ve bütçeniz: 170\n",
            "Almak istediğiniz ürünü alabilme durumunuz:True\n"
          ],
          "name": "stdout"
        }
      ]
    }
  ]
}