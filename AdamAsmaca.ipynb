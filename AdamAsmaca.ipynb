{
  "nbformat": 4,
  "nbformat_minor": 0,
  "metadata": {
    "colab": {
      "name": "AdamAsmaca.ipynb",
      "provenance": [],
      "authorship_tag": "ABX9TyNoJErLCELA1/Ao3ErnFw0P",
      "include_colab_link": true
    },
    "kernelspec": {
      "name": "python3",
      "display_name": "Python 3"
    }
  },
  "cells": [
    {
      "cell_type": "markdown",
      "metadata": {
        "id": "view-in-github",
        "colab_type": "text"
      },
      "source": [
        "<a href=\"https://colab.research.google.com/github/senazeynepayar/bby162/blob/master/AdamAsmaca.ipynb\" target=\"_parent\"><img src=\"https://colab.research.google.com/assets/colab-badge.svg\" alt=\"Open In Colab\"/></a>"
      ]
    },
    {
      "cell_type": "code",
      "metadata": {
        "id": "ZxYHHK5R_sA8",
        "colab_type": "code",
        "colab": {
          "base_uri": "https://localhost:8080/",
          "height": 174
        },
        "outputId": "bd4093c0-2c83-42b8-b5af-e80381eb70c1"
      },
      "source": [
        "import random\n",
        "\n",
        "print(\"---Adam asmacaya hoşgeldiniz---\")\n",
        "liste = [\"ayna\", \"kapı\", \"tarz\", \"pars\", \"nazo\"]\n",
        "b = list(random.choice(liste))\n",
        "c = [\" \"] * len(b)\n",
        "hak = 6\n",
        "indeks = 0\n",
        "bulundu = False\n",
        "while hak != 0:\n",
        "    harf = input(\"Oyun basladı lütfen bir harf giriniz: \").lower()\n",
        "    for gezgin in b:\n",
        "        indeks += 1\n",
        "        if gezgin == harf:\n",
        "            bulundu = True\n",
        "            c[indeks - 1] = harf\n",
        "        if \" \" not in c:\n",
        "            print(\"Kazandınııızzz\")\n",
        "            exit()\n",
        "    if bulundu == False:\n",
        "        hak -= 1\n",
        "        print(\"yanlış tahmin\")\n",
        "        print(hak, \"hakkiniz kaldi\")\n",
        "    if hak == 0 and \" \" in c:\n",
        "        print(\"Üzgünüm, Kaybettin\")\n",
        "        exit()\n",
        "    indeks = 0\n",
        "    bulundu = False\n",
        "    print(c)"
      ],
      "execution_count": 0,
      "outputs": [
        {
          "output_type": "stream",
          "text": [
            "---Adam asmacaya hoşgeldiniz---\n",
            "Oyun basladı lütfen bir harf giriniz: s\n",
            "yanlış tahmin\n",
            "5 hakkiniz kaldi\n",
            "[' ', ' ', ' ', ' ']\n",
            "Oyun basladı lütfen bir harf giriniz: a\n",
            "[' ', 'a', ' ', ' ']\n"
          ],
          "name": "stdout"
        }
      ]
    },
    {
      "cell_type": "markdown",
      "metadata": {
        "id": "LN8V3KVS0uTJ",
        "colab_type": "text"
      },
      "source": [
        ""
      ]
    },
    {
      "cell_type": "code",
      "metadata": {
        "id": "wOGre-I90uqO",
        "colab_type": "code",
        "colab": {}
      },
      "source": [
        ""
      ],
      "execution_count": 0,
      "outputs": []
    }
  ]
}